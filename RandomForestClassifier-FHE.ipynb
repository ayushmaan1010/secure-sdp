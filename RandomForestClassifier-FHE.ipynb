{
 "cells": [
  {
   "cell_type": "code",
   "execution_count": 1,
   "id": "3c195fe4",
   "metadata": {},
   "outputs": [],
   "source": [
    "%matplotlib inline\n",
    "import matplotlib.pyplot as plt\n",
    "import pandas as pd\n",
    "import numpy as np\n",
    "from sklearn.model_selection import train_test_split\n",
    "from sklearn.metrics import accuracy_score, precision_score, recall_score, f1_score"
   ]
  },
  {
   "cell_type": "code",
   "execution_count": 2,
   "id": "54e555ef",
   "metadata": {},
   "outputs": [
    {
     "data": {
      "text/html": [
       "<div>\n",
       "<style scoped>\n",
       "    .dataframe tbody tr th:only-of-type {\n",
       "        vertical-align: middle;\n",
       "    }\n",
       "\n",
       "    .dataframe tbody tr th {\n",
       "        vertical-align: top;\n",
       "    }\n",
       "\n",
       "    .dataframe thead th {\n",
       "        text-align: right;\n",
       "    }\n",
       "</style>\n",
       "<table border=\"1\" class=\"dataframe\">\n",
       "  <thead>\n",
       "    <tr style=\"text-align: right;\">\n",
       "      <th></th>\n",
       "      <th>name</th>\n",
       "      <th>wmc</th>\n",
       "      <th>dit</th>\n",
       "      <th>noc</th>\n",
       "      <th>cbo</th>\n",
       "      <th>rfc</th>\n",
       "      <th>lcom</th>\n",
       "      <th>ca</th>\n",
       "      <th>ce</th>\n",
       "      <th>npm</th>\n",
       "      <th>...</th>\n",
       "      <th>dam</th>\n",
       "      <th>moa</th>\n",
       "      <th>mfa</th>\n",
       "      <th>cam</th>\n",
       "      <th>ic</th>\n",
       "      <th>cbm</th>\n",
       "      <th>amc</th>\n",
       "      <th>max_cc</th>\n",
       "      <th>avg_cc</th>\n",
       "      <th>bug</th>\n",
       "    </tr>\n",
       "  </thead>\n",
       "  <tbody>\n",
       "    <tr>\n",
       "      <th>0</th>\n",
       "      <td>org.apache.tools.ant.taskdefs.rmic.RmicAdapter...</td>\n",
       "      <td>3</td>\n",
       "      <td>1</td>\n",
       "      <td>0</td>\n",
       "      <td>10</td>\n",
       "      <td>18</td>\n",
       "      <td>3</td>\n",
       "      <td>1</td>\n",
       "      <td>9</td>\n",
       "      <td>1</td>\n",
       "      <td>...</td>\n",
       "      <td>0.0</td>\n",
       "      <td>0</td>\n",
       "      <td>0.0</td>\n",
       "      <td>0.444444</td>\n",
       "      <td>0</td>\n",
       "      <td>0</td>\n",
       "      <td>32.666667</td>\n",
       "      <td>1</td>\n",
       "      <td>0.6667</td>\n",
       "      <td>0</td>\n",
       "    </tr>\n",
       "    <tr>\n",
       "      <th>1</th>\n",
       "      <td>org.apache.tools.ant.taskdefs.optional.perforc...</td>\n",
       "      <td>5</td>\n",
       "      <td>2</td>\n",
       "      <td>0</td>\n",
       "      <td>4</td>\n",
       "      <td>13</td>\n",
       "      <td>0</td>\n",
       "      <td>1</td>\n",
       "      <td>4</td>\n",
       "      <td>4</td>\n",
       "      <td>...</td>\n",
       "      <td>1.0</td>\n",
       "      <td>1</td>\n",
       "      <td>0.7</td>\n",
       "      <td>0.500000</td>\n",
       "      <td>0</td>\n",
       "      <td>0</td>\n",
       "      <td>13.400000</td>\n",
       "      <td>1</td>\n",
       "      <td>0.6000</td>\n",
       "      <td>0</td>\n",
       "    </tr>\n",
       "    <tr>\n",
       "      <th>2</th>\n",
       "      <td>org.apache.tools.ant.taskdefs.optional.junit.O...</td>\n",
       "      <td>1</td>\n",
       "      <td>2</td>\n",
       "      <td>0</td>\n",
       "      <td>1</td>\n",
       "      <td>3</td>\n",
       "      <td>0</td>\n",
       "      <td>0</td>\n",
       "      <td>1</td>\n",
       "      <td>1</td>\n",
       "      <td>...</td>\n",
       "      <td>0.0</td>\n",
       "      <td>0</td>\n",
       "      <td>1.0</td>\n",
       "      <td>1.000000</td>\n",
       "      <td>0</td>\n",
       "      <td>0</td>\n",
       "      <td>6.000000</td>\n",
       "      <td>0</td>\n",
       "      <td>0.0000</td>\n",
       "      <td>0</td>\n",
       "    </tr>\n",
       "    <tr>\n",
       "      <th>3</th>\n",
       "      <td>org.apache.tools.ant.taskdefs.optional.perforc...</td>\n",
       "      <td>8</td>\n",
       "      <td>1</td>\n",
       "      <td>9</td>\n",
       "      <td>13</td>\n",
       "      <td>20</td>\n",
       "      <td>12</td>\n",
       "      <td>9</td>\n",
       "      <td>4</td>\n",
       "      <td>8</td>\n",
       "      <td>...</td>\n",
       "      <td>0.2</td>\n",
       "      <td>1</td>\n",
       "      <td>0.0</td>\n",
       "      <td>0.406250</td>\n",
       "      <td>0</td>\n",
       "      <td>0</td>\n",
       "      <td>11.000000</td>\n",
       "      <td>1</td>\n",
       "      <td>0.8750</td>\n",
       "      <td>0</td>\n",
       "    </tr>\n",
       "    <tr>\n",
       "      <th>4</th>\n",
       "      <td>org.apache.tools.ant.taskdefs.WaitFor</td>\n",
       "      <td>9</td>\n",
       "      <td>3</td>\n",
       "      <td>0</td>\n",
       "      <td>5</td>\n",
       "      <td>26</td>\n",
       "      <td>16</td>\n",
       "      <td>0</td>\n",
       "      <td>5</td>\n",
       "      <td>7</td>\n",
       "      <td>...</td>\n",
       "      <td>1.0</td>\n",
       "      <td>0</td>\n",
       "      <td>0.8</td>\n",
       "      <td>0.388889</td>\n",
       "      <td>0</td>\n",
       "      <td>0</td>\n",
       "      <td>19.000000</td>\n",
       "      <td>2</td>\n",
       "      <td>1.0000</td>\n",
       "      <td>1</td>\n",
       "    </tr>\n",
       "  </tbody>\n",
       "</table>\n",
       "<p>5 rows × 22 columns</p>\n",
       "</div>"
      ],
      "text/plain": [
       "                                                name  wmc  dit  noc  cbo  rfc  \\\n",
       "0  org.apache.tools.ant.taskdefs.rmic.RmicAdapter...    3    1    0   10   18   \n",
       "1  org.apache.tools.ant.taskdefs.optional.perforc...    5    2    0    4   13   \n",
       "2  org.apache.tools.ant.taskdefs.optional.junit.O...    1    2    0    1    3   \n",
       "3  org.apache.tools.ant.taskdefs.optional.perforc...    8    1    9   13   20   \n",
       "4              org.apache.tools.ant.taskdefs.WaitFor    9    3    0    5   26   \n",
       "\n",
       "   lcom  ca  ce  npm  ...  dam  moa  mfa       cam  ic  cbm        amc  \\\n",
       "0     3   1   9    1  ...  0.0    0  0.0  0.444444   0    0  32.666667   \n",
       "1     0   1   4    4  ...  1.0    1  0.7  0.500000   0    0  13.400000   \n",
       "2     0   0   1    1  ...  0.0    0  1.0  1.000000   0    0   6.000000   \n",
       "3    12   9   4    8  ...  0.2    1  0.0  0.406250   0    0  11.000000   \n",
       "4    16   0   5    7  ...  1.0    0  0.8  0.388889   0    0  19.000000   \n",
       "\n",
       "   max_cc  avg_cc  bug  \n",
       "0       1  0.6667    0  \n",
       "1       1  0.6000    0  \n",
       "2       0  0.0000    0  \n",
       "3       1  0.8750    0  \n",
       "4       2  1.0000    1  \n",
       "\n",
       "[5 rows x 22 columns]"
      ]
     },
     "execution_count": 2,
     "metadata": {},
     "output_type": "execute_result"
    }
   ],
   "source": [
    "df = pd.read_csv(\"data/promise/ant-1.7.csv\")\n",
    "df.head()"
   ]
  },
  {
   "cell_type": "code",
   "execution_count": 3,
   "id": "ecff4c07",
   "metadata": {},
   "outputs": [
    {
     "data": {
      "text/html": [
       "<div>\n",
       "<style scoped>\n",
       "    .dataframe tbody tr th:only-of-type {\n",
       "        vertical-align: middle;\n",
       "    }\n",
       "\n",
       "    .dataframe tbody tr th {\n",
       "        vertical-align: top;\n",
       "    }\n",
       "\n",
       "    .dataframe thead th {\n",
       "        text-align: right;\n",
       "    }\n",
       "</style>\n",
       "<table border=\"1\" class=\"dataframe\">\n",
       "  <thead>\n",
       "    <tr style=\"text-align: right;\">\n",
       "      <th></th>\n",
       "      <th>wmc</th>\n",
       "      <th>dit</th>\n",
       "      <th>noc</th>\n",
       "      <th>cbo</th>\n",
       "      <th>rfc</th>\n",
       "      <th>lcom</th>\n",
       "      <th>ca</th>\n",
       "      <th>ce</th>\n",
       "      <th>npm</th>\n",
       "      <th>lcom3</th>\n",
       "      <th>loc</th>\n",
       "      <th>dam</th>\n",
       "      <th>moa</th>\n",
       "      <th>mfa</th>\n",
       "      <th>cam</th>\n",
       "      <th>ic</th>\n",
       "      <th>cbm</th>\n",
       "      <th>amc</th>\n",
       "      <th>max_cc</th>\n",
       "      <th>avg_cc</th>\n",
       "    </tr>\n",
       "  </thead>\n",
       "  <tbody>\n",
       "    <tr>\n",
       "      <th>0</th>\n",
       "      <td>3</td>\n",
       "      <td>1</td>\n",
       "      <td>0</td>\n",
       "      <td>10</td>\n",
       "      <td>18</td>\n",
       "      <td>3</td>\n",
       "      <td>1</td>\n",
       "      <td>9</td>\n",
       "      <td>1</td>\n",
       "      <td>1.100</td>\n",
       "      <td>106</td>\n",
       "      <td>0.0</td>\n",
       "      <td>0</td>\n",
       "      <td>0.0</td>\n",
       "      <td>0.444444</td>\n",
       "      <td>0</td>\n",
       "      <td>0</td>\n",
       "      <td>32.666667</td>\n",
       "      <td>1</td>\n",
       "      <td>0.6667</td>\n",
       "    </tr>\n",
       "    <tr>\n",
       "      <th>1</th>\n",
       "      <td>5</td>\n",
       "      <td>2</td>\n",
       "      <td>0</td>\n",
       "      <td>4</td>\n",
       "      <td>13</td>\n",
       "      <td>0</td>\n",
       "      <td>1</td>\n",
       "      <td>4</td>\n",
       "      <td>4</td>\n",
       "      <td>0.625</td>\n",
       "      <td>76</td>\n",
       "      <td>1.0</td>\n",
       "      <td>1</td>\n",
       "      <td>0.7</td>\n",
       "      <td>0.500000</td>\n",
       "      <td>0</td>\n",
       "      <td>0</td>\n",
       "      <td>13.400000</td>\n",
       "      <td>1</td>\n",
       "      <td>0.6000</td>\n",
       "    </tr>\n",
       "    <tr>\n",
       "      <th>2</th>\n",
       "      <td>1</td>\n",
       "      <td>2</td>\n",
       "      <td>0</td>\n",
       "      <td>1</td>\n",
       "      <td>3</td>\n",
       "      <td>0</td>\n",
       "      <td>0</td>\n",
       "      <td>1</td>\n",
       "      <td>1</td>\n",
       "      <td>2.000</td>\n",
       "      <td>7</td>\n",
       "      <td>0.0</td>\n",
       "      <td>0</td>\n",
       "      <td>1.0</td>\n",
       "      <td>1.000000</td>\n",
       "      <td>0</td>\n",
       "      <td>0</td>\n",
       "      <td>6.000000</td>\n",
       "      <td>0</td>\n",
       "      <td>0.0000</td>\n",
       "    </tr>\n",
       "    <tr>\n",
       "      <th>3</th>\n",
       "      <td>8</td>\n",
       "      <td>1</td>\n",
       "      <td>9</td>\n",
       "      <td>13</td>\n",
       "      <td>20</td>\n",
       "      <td>12</td>\n",
       "      <td>9</td>\n",
       "      <td>4</td>\n",
       "      <td>8</td>\n",
       "      <td>0.800</td>\n",
       "      <td>101</td>\n",
       "      <td>0.2</td>\n",
       "      <td>1</td>\n",
       "      <td>0.0</td>\n",
       "      <td>0.406250</td>\n",
       "      <td>0</td>\n",
       "      <td>0</td>\n",
       "      <td>11.000000</td>\n",
       "      <td>1</td>\n",
       "      <td>0.8750</td>\n",
       "    </tr>\n",
       "    <tr>\n",
       "      <th>4</th>\n",
       "      <td>9</td>\n",
       "      <td>3</td>\n",
       "      <td>0</td>\n",
       "      <td>5</td>\n",
       "      <td>26</td>\n",
       "      <td>16</td>\n",
       "      <td>0</td>\n",
       "      <td>5</td>\n",
       "      <td>7</td>\n",
       "      <td>0.750</td>\n",
       "      <td>185</td>\n",
       "      <td>1.0</td>\n",
       "      <td>0</td>\n",
       "      <td>0.8</td>\n",
       "      <td>0.388889</td>\n",
       "      <td>0</td>\n",
       "      <td>0</td>\n",
       "      <td>19.000000</td>\n",
       "      <td>2</td>\n",
       "      <td>1.0000</td>\n",
       "    </tr>\n",
       "  </tbody>\n",
       "</table>\n",
       "</div>"
      ],
      "text/plain": [
       "   wmc  dit  noc  cbo  rfc  lcom  ca  ce  npm  lcom3  loc  dam  moa  mfa  \\\n",
       "0    3    1    0   10   18     3   1   9    1  1.100  106  0.0    0  0.0   \n",
       "1    5    2    0    4   13     0   1   4    4  0.625   76  1.0    1  0.7   \n",
       "2    1    2    0    1    3     0   0   1    1  2.000    7  0.0    0  1.0   \n",
       "3    8    1    9   13   20    12   9   4    8  0.800  101  0.2    1  0.0   \n",
       "4    9    3    0    5   26    16   0   5    7  0.750  185  1.0    0  0.8   \n",
       "\n",
       "        cam  ic  cbm        amc  max_cc  avg_cc  \n",
       "0  0.444444   0    0  32.666667       1  0.6667  \n",
       "1  0.500000   0    0  13.400000       1  0.6000  \n",
       "2  1.000000   0    0   6.000000       0  0.0000  \n",
       "3  0.406250   0    0  11.000000       1  0.8750  \n",
       "4  0.388889   0    0  19.000000       2  1.0000  "
      ]
     },
     "execution_count": 3,
     "metadata": {},
     "output_type": "execute_result"
    }
   ],
   "source": [
    "X = df.drop([\"name\",'bug'],axis = 1)\n",
    "X.head()"
   ]
  },
  {
   "cell_type": "code",
   "execution_count": 4,
   "id": "d234dec2",
   "metadata": {},
   "outputs": [
    {
     "data": {
      "text/plain": [
       "0    0\n",
       "1    0\n",
       "2    0\n",
       "3    0\n",
       "4    1\n",
       "Name: bug, dtype: int64"
      ]
     },
     "execution_count": 4,
     "metadata": {},
     "output_type": "execute_result"
    }
   ],
   "source": [
    "y = df[\"bug\"]\n",
    "y.head()"
   ]
  },
  {
   "cell_type": "code",
   "execution_count": 6,
   "id": "6db4978e",
   "metadata": {},
   "outputs": [
    {
     "data": {
      "image/png": "[encoded data removed]",
      "text/plain": [
       "<Figure size 640x480 with 1 Axes>"
      ]
     },
     "metadata": {},
     "output_type": "display_data"
    }
   ],
   "source": [
    "y.value_counts().plot(kind = \"bar\", color=\"salmon\");"
   ]
  },
  {
   "cell_type": "code",
   "execution_count": 7,
   "id": "bc6fcfd2",
   "metadata": {},
   "outputs": [
    {
     "data": {
      "text/plain": [
       "RandomForestClassifier()"
      ]
     },
     "execution_count": 7,
     "metadata": {},
     "output_type": "execute_result"
    }
   ],
   "source": [
    "from sklearn.ensemble import RandomForestClassifier\n",
    "X_train,X_test, y_train,y_test = train_test_split(X,\n",
    "                                                  y,\n",
    "                                                  test_size=0.2)\n",
    "clf = RandomForestClassifier()\n",
    "clf.fit(X_train, y_train)"
   ]
  },
  {
   "cell_type": "code",
   "execution_count": 8,
   "id": "92cc99b4",
   "metadata": {},
   "outputs": [
    {
     "data": {
      "text/plain": [
       "(0.8120805369127517, 0.8120805369127517)"
      ]
     },
     "execution_count": 8,
     "metadata": {},
     "output_type": "execute_result"
    }
   ],
   "source": [
    "y_pred = clf.predict(X_test)\n",
    "acc1 = accuracy_score(y_test, y_pred)\n",
    "f1 = f1_score(y_test,y_pred, average='micro' )\n",
    "acc1, f1"
   ]
  },
  {
   "cell_type": "code",
   "execution_count": 9,
   "id": "0619e09f",
   "metadata": {},
   "outputs": [
    {
     "data": {
      "text/plain": [
       "((4057, 20), (4057,))"
      ]
     },
     "execution_count": 9,
     "metadata": {},
     "output_type": "execute_result"
    }
   ],
   "source": [
    "from imblearn.over_sampling import BorderlineSMOTE\n",
    "\n",
    "smote = BorderlineSMOTE(random_state=42,k_neighbors=2)\n",
    "X_sm, y_sm = smote.fit_resample(X,y)\n",
    "\n",
    "X_sm.shape, y_sm.shape"
   ]
  },
  {
   "cell_type": "code",
   "execution_count": 10,
   "id": "64512c9a",
   "metadata": {},
   "outputs": [
    {
     "data": {
      "text/plain": [
       "0     579\n",
       "1     579\n",
       "3     579\n",
       "2     579\n",
       "6     579\n",
       "4     579\n",
       "5     579\n",
       "8       2\n",
       "10      1\n",
       "7       1\n",
       "Name: bug, dtype: int64"
      ]
     },
     "execution_count": 10,
     "metadata": {},
     "output_type": "execute_result"
    }
   ],
   "source": [
    "y_sm.value_counts()"
   ]
  },
  {
   "cell_type": "code",
   "execution_count": 11,
   "id": "a3b99626",
   "metadata": {},
   "outputs": [
    {
     "data": {
      "image/png": "[encoded data removed]",
      "text/plain": [
       "<Figure size 640x480 with 1 Axes>"
      ]
     },
     "metadata": {},
     "output_type": "display_data"
    }
   ],
   "source": [
    "y_sm.value_counts().plot(kind=\"bar\", color = \"salmon\");"
   ]
  },
  {
   "cell_type": "code",
   "execution_count": 211,
   "id": "60582057",
   "metadata": {},
   "outputs": [
    {
     "data": {
      "text/plain": [
       "((1391, 20), (155, 20), (1391,), (155,))"
      ]
     },
     "execution_count": 211,
     "metadata": {},
     "output_type": "execute_result"
    }
   ],
   "source": [
    "np.random.seed(42)\n",
    "X_train, X_test, y_train, y_test = train_test_split(X_sm, \n",
    "                                                    y_sm, \n",
    "                                                    test_size = 0.1)\n",
    "\n",
    "X_train.shape, X_test.shape, y_train.shape, y_test.shape"
   ]
  },
  {
   "cell_type": "code",
   "execution_count": 212,
   "id": "594d151d",
   "metadata": {},
   "outputs": [
    {
     "data": {
      "text/plain": [
       "RandomForestClassifier(max_depth=6, n_jobs=-1)"
      ]
     },
     "execution_count": 212,
     "metadata": {},
     "output_type": "execute_result"
    }
   ],
   "source": [
    "from concrete.ml.sklearn.rf import RandomForestClassifier\n",
    "\n",
    "clf = RandomForestClassifier(max_depth = 6, n_jobs=-1)\n",
    "clf.fit(X_train, y_train)"
   ]
  },
  {
   "cell_type": "code",
   "execution_count": 213,
   "id": "10395425",
   "metadata": {},
   "outputs": [],
   "source": [
    "y_pred_clear = clf.predict(X_test)"
   ]
  },
  {
   "cell_type": "code",
   "execution_count": 214,
   "id": "b0a2a5f2",
   "metadata": {},
   "outputs": [
    {
     "name": "stdout",
     "output_type": "stream",
     "text": [
      "Accuracy without encryption :92.9032\n",
      "F1-score without encryption :0.9290\n",
      "Precision without encryption :0.9290\n",
      "Recall without encryption :0.9290\n"
     ]
    }
   ],
   "source": [
    "accuracy_clear = accuracy_score(y_test, y_pred_clear)\n",
    "f1_score_clear = f1_score(y_test, y_pred_clear, average='micro')\n",
    "precision_clear =precision_score(y_test, y_pred_clear, average = 'micro')\n",
    "recall_clear = recall_score(y_test, y_pred_clear, average='micro')\n",
    "\n",
    "print(f\"Accuracy without encryption :{accuracy_clear*100:.4f}\")\n",
    "print(f\"F1-score without encryption :{f1_score_clear:.4f}\")\n",
    "print(f\"Precision without encryption :{precision_clear:.4f}\")\n",
    "print(f\"Recall without encryption :{recall_clear:.4f}\")"
   ]
  },
  {
   "cell_type": "code",
   "execution_count": 215,
   "id": "df140b4f",
   "metadata": {},
   "outputs": [
    {
     "data": {
      "text/plain": [
       "array([[1.74603177e-02, 3.96825403e-02, 4.68253975e-02, 8.94444458e-01,\n",
       "        0.00000000e+00, 0.00000000e+00, 0.00000000e+00, 0.00000000e+00,\n",
       "        0.00000000e+00, 0.00000000e+00, 0.00000000e+00],\n",
       "       [1.00793652e-01, 8.84920648e-01, 9.52380967e-03, 2.38095242e-03,\n",
       "        0.00000000e+00, 0.00000000e+00, 0.00000000e+00, 0.00000000e+00,\n",
       "        0.00000000e+00, 0.00000000e+00, 0.00000000e+00],\n",
       "       [7.14285725e-03, 1.26984129e-02, 7.14285725e-02, 9.06349220e-01,\n",
       "        7.93650805e-04, 0.00000000e+00, 0.00000000e+00, 0.00000000e+00,\n",
       "        0.00000000e+00, 0.00000000e+00, 0.00000000e+00],\n",
       "       [1.88095241e-01, 7.76984139e-01, 2.93650798e-02, 5.55555564e-03,\n",
       "        0.00000000e+00, 0.00000000e+00, 0.00000000e+00, 0.00000000e+00,\n",
       "        0.00000000e+00, 0.00000000e+00, 0.00000000e+00],\n",
       "       [1.56349209e-01, 1.94444447e-01, 6.35714295e-01, 9.52380967e-03,\n",
       "        2.38095242e-03, 2.38095242e-03, 0.00000000e+00, 0.00000000e+00,\n",
       "        0.00000000e+00, 0.00000000e+00, 0.00000000e+00]])"
      ]
     },
     "execution_count": 215,
     "metadata": {},
     "output_type": "execute_result"
    }
   ],
   "source": [
    "y_pred_proba_clear = clf.predict_proba(X_test)\n",
    "y_pred_proba_clear[:5]"
   ]
  },
  {
   "cell_type": "code",
   "execution_count": 216,
   "id": "bf2711dd",
   "metadata": {},
   "outputs": [
    {
     "data": {
      "text/plain": [
       "(155, 11)"
      ]
     },
     "execution_count": 216,
     "metadata": {},
     "output_type": "execute_result"
    }
   ],
   "source": [
    "from sklearn.preprocessing import LabelBinarizer\n",
    "\n",
    "label_binarizer = LabelBinarizer().fit(y_train)\n",
    "y_onehot_test = label_binarizer.transform(y_test)\n",
    "y_onehot_test.shape"
   ]
  },
  {
   "cell_type": "code",
   "execution_count": 217,
   "id": "461c86dd",
   "metadata": {},
   "outputs": [
    {
     "data": {
      "text/plain": [
       "0"
      ]
     },
     "execution_count": 217,
     "metadata": {},
     "output_type": "execute_result"
    }
   ],
   "source": [
    "class_of_interest = 0\n",
    "class_id = np.flatnonzero(label_binarizer.classes_ == class_of_interest)[0]\n",
    "class_id"
   ]
  },
  {
   "cell_type": "code",
   "execution_count": 218,
   "id": "151c254b",
   "metadata": {},
   "outputs": [
    {
     "data": {
      "image/png": "[encoded data removed]",
      "text/plain": [
       "<Figure size 640x480 with 1 Axes>"
      ]
     },
     "metadata": {},
     "output_type": "display_data"
    }
   ],
   "source": [
    "from sklearn.metrics import RocCurveDisplay\n",
    "RocCurveDisplay.from_predictions(y_onehot_test[:,class_id], \n",
    "                                 y_pred_proba_clear[:,class_id],\n",
    "                                 color = \"darkorange\")\n",
    "plt.plot([0,1],[0,1], \"k--\")\n",
    "plt.title(\"Non buggy vs buggy classes\")\n",
    "plt.xlabel(\"False Positive Rate\")\n",
    "plt.ylabel(\"True Positive Rate\");"
   ]
  },
  {
   "cell_type": "code",
   "execution_count": 219,
   "id": "b910dee0",
   "metadata": {},
   "outputs": [
    {
     "name": "stdout",
     "output_type": "stream",
     "text": [
      " %0 = _inputs                                  # EncryptedTensor<uint6, shape=(1, 20)>            ∈ [0, 63]\n",
      " %1 = transpose(%0)                            # EncryptedTensor<uint6, shape=(20, 1)>            ∈ [0, 63]\n",
      " %2 = [[0 0 0 .. ... .. 0 0 0]]                # ClearTensor<uint1, shape=(960, 20)>              ∈ [0, 1]\n",
      " %3 = matmul(%2, %1)                           # EncryptedTensor<uint6, shape=(960, 1)>           ∈ [0, 63]\n",
      " %4 = [[62] [ 7] ... [10] [ 0]]                # ClearTensor<uint6, shape=(960, 1)>               ∈ [0, 62]\n",
      " %5 = less_equal(%3, %4)                       # EncryptedTensor<uint1, shape=(960, 1)>           ∈ [False, True]\n",
      " %6 = reshape(%5, newshape=[20 48 -1])         # EncryptedTensor<uint1, shape=(20, 48, 1)>        ∈ [False, True]\n",
      " %7 = [[[ 1  1   ... 0  0  0]]]                # ClearTensor<int2, shape=(20, 49, 48)>            ∈ [-1, 1]\n",
      " %8 = matmul(%7, %6)                           # EncryptedTensor<int4, shape=(20, 49, 1)>         ∈ [-6, 6]\n",
      " %9 = reshape(%8, newshape=[980  -1])          # EncryptedTensor<int4, shape=(980, 1)>            ∈ [-6, 6]\n",
      "%10 = [[6] [5] [ ... ] [0] [0]]                # ClearTensor<uint3, shape=(980, 1)>               ∈ [0, 6]\n",
      "%11 = equal(%10, %9)                           # EncryptedTensor<uint1, shape=(980, 1)>           ∈ [False, True]\n",
      "%12 = reshape(%11, newshape=[20 49 -1])        # EncryptedTensor<uint1, shape=(20, 49, 1)>        ∈ [False, True]\n",
      "%13 = [[[42 63   ... 0  0  0]]]                # ClearTensor<uint6, shape=(20, 11, 49)>           ∈ [0, 63]\n",
      "%14 = matmul(%13, %12)                         # EncryptedTensor<uint6, shape=(20, 11, 1)>        ∈ [0, 63]\n",
      "%15 = reshape(%14, newshape=[20 11 -1])        # EncryptedTensor<uint6, shape=(20, 11, 1)>        ∈ [0, 63]\n",
      "return %15\n"
     ]
    }
   ],
   "source": [
    "fhe_circuit = clf.compile(X_train.to_numpy())\n",
    "print(fhe_circuit)"
   ]
  },
  {
   "cell_type": "code",
   "execution_count": 220,
   "id": "13faa1b9",
   "metadata": {},
   "outputs": [
    {
     "name": "stdout",
     "output_type": "stream",
     "text": [
      "Generating a key for an 6-bit circuit\n"
     ]
    }
   ],
   "source": [
    "print(f\"Generating a key for an {fhe_circuit.graph.maximum_integer_bit_width()}-bit circuit\")"
   ]
  },
  {
   "cell_type": "code",
   "execution_count": 221,
   "id": "33f4d262",
   "metadata": {},
   "outputs": [],
   "source": [
    "import time"
   ]
  },
  {
   "cell_type": "code",
   "execution_count": 222,
   "id": "b2df447f",
   "metadata": {},
   "outputs": [
    {
     "name": "stdout",
     "output_type": "stream",
     "text": [
      "None\n",
      "Key generation time: 74.1441 seconds\n"
     ]
    }
   ],
   "source": [
    "time_begin = time.time()\n",
    "print(fhe_circuit.client.keygen(force = False))\n",
    "print(f\"Key generation time: {time.time() - time_begin:.4f} seconds\")"
   ]
  },
  {
   "cell_type": "code",
   "execution_count": 223,
   "id": "dabfd62b",
   "metadata": {},
   "outputs": [
    {
     "name": "stdout",
     "output_type": "stream",
     "text": [
      "Prediction time: 5229.3347 seconds\n"
     ]
    }
   ],
   "source": [
    "time_begin = time.time()\n",
    "y_pred_fhe = clf.predict(X_test[:50], execute_in_fhe = True)\n",
    "print(f\"Prediction time: {time.time() - time_begin:.4f} seconds\")"
   ]
  },
  {
   "cell_type": "code",
   "execution_count": 224,
   "id": "410519e3",
   "metadata": {},
   "outputs": [
    {
     "data": {
      "text/plain": [
       "0.94"
      ]
     },
     "execution_count": 224,
     "metadata": {},
     "output_type": "execute_result"
    }
   ],
   "source": [
    "accuracy_fhe = accuracy_score(y_test[:50],y_pred_fhe)\n",
    "accuracy_fhe"
   ]
  },
  {
   "cell_type": "code",
   "execution_count": 225,
   "id": "3b9493a4",
   "metadata": {},
   "outputs": [
    {
     "name": "stdout",
     "output_type": "stream",
     "text": [
      "Similarity: 100%\n"
     ]
    }
   ],
   "source": [
    "print(f\"Similarity: {int((y_pred_fhe == y_pred_clear[:50]).mean()*100)}%\")"
   ]
  },
  {
   "cell_type": "code",
   "execution_count": null,
   "id": "b4986ba0",
   "metadata": {},
   "outputs": [],
   "source": [
    "# quantized_accuracy = accuracy_score(y_test, y_pred_clear)\n",
    "accuracy_fhe = accuracy_score(y_test[:50], y_pred_fhe)\n",
    "print(f\"Quantized Clear Accuracy: {accuracy_clear*100:.4f}\")\n",
    "print(f\"FHE Accuracy: {accuracy_fhe*100:.4f}\")\n",
    "score_difference = abs(accuracy_fhe - accuracy_clear)\n",
    "print(f\"Accuracy score difference: {score_difference:.4f}\")\n",
    "\n",
    "precision_fhe = precision_score(y_test[:50], y_pred_fhe, average=\"micro\")\n",
    "precision_diff = abs(precision_fhe - precision_clear)\n",
    "recall_fhe = recall_score(y_test[:50], y_pred_fhe, average=\"micro\")\n",
    "recall_diff = abs(recall_fhe - recall_clear)\n",
    "f1_score_fhe = f1_score(y_test[:50], y_pred_fhe, average=\"micro\")\n",
    "f1_score_diff = abs(f1_score_fhe - f1_score_clear)\n",
    "\n",
    "print(f\"Precision with encryption :{precision_fhe:.4f}\")\n",
    "print(f\"Precision score difference: {precision_diff:.4f}\")\n",
    "print(f\"Recall with encryption :{recall_fhe:.4f}\")\n",
    "print(f\"Recall score difference: {recall_diff:.4f}\")\n",
    "print(f\"F1-score with encryption :{f1_score_fhe:.4f}\")\n",
    "print(f\"F1-score difference: {f1_score_diff:.4f}\")"
   ]
  },
  {
   "cell_type": "code",
   "execution_count": 12,
   "id": "dd4bb4f8",
   "metadata": {},
   "outputs": [],
   "source": [
    "accuracy_dict = {\"State-of-the-art\": 79,\n",
    "                 \"Proposed method\": 88}"
   ]
  },
  {
   "cell_type": "code",
   "execution_count": 27,
   "id": "aad15d5d",
   "metadata": {},
   "outputs": [
    {
     "data": {
      "image/png": "[encoded data removed]",
      "text/plain": [
       "<Figure size 640x480 with 1 Axes>"
      ]
     },
     "metadata": {},
     "output_type": "display_data"
    }
   ],
   "source": [
    "df = pd.DataFrame(accuracy_dict, index = [0])\n",
    "fig = df.T.plot(kind = 'bar',legend = None, color = \"salmon\", rot = 0);\n",
    "fig.bar_label(fig.containers[0]);"
   ]
  },
  {
   "cell_type": "code",
   "execution_count": null,
   "id": "6ccfaa82",
   "metadata": {},
   "outputs": [],
   "source": []
  }
 ],
 "metadata": {
  "kernelspec": {
   "display_name": "Python 3 (ipykernel)",
   "language": "python",
   "name": "python3"
  },
  "language_info": {
   "codemirror_mode": {
    "name": "ipython",
    "version": 3
   },
   "file_extension": ".py",
   "mimetype": "text/x-python",
   "name": "python",
   "nbconvert_exporter": "python",
   "pygments_lexer": "ipython3",
   "version": "3.10.7"
  }
 },
 "nbformat": 4,
 "nbformat_minor": 5
}
